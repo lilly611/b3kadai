{
 "cells": [
  {
   "cell_type": "code",
   "execution_count": 26,
   "metadata": {},
   "outputs": [
    {
     "data": {
      "image/png": "[encoded data removed]",
      "text/plain": [
       "<Figure size 640x480 with 1 Axes>"
      ]
     },
     "metadata": {},
     "output_type": "display_data"
    }
   ],
   "source": [
    "import numpy as np\n",
    "import matplotlib.pyplot as plt\n",
    "\n",
    "\n",
    "def f_1(u, v):\n",
    "    return -4 * u + 6 * v\n",
    "\n",
    "\n",
    "def f_2(u, v):\n",
    "    return -3 * u + 5 * v\n",
    "\n",
    "\n",
    "def solve_oed_runge_kutta(a, b, f_1, f_2, n, u_a, v_a):\n",
    "    dt = (b - a) / n\n",
    "    t = [a + i * dt for i in range(n + 1)]\n",
    "    u = np.zeros(n + 1)\n",
    "    v = np.zeros(n + 1)\n",
    "\n",
    "    u[0] = u_a\n",
    "    v[0] = v_a\n",
    "\n",
    "    for i in range(n):\n",
    "        k_1 = f_1(u[i], v[i])\n",
    "        l_1 = f_2(u[i], v[i])\n",
    "\n",
    "        k_2 = f_1(u[i] + (1 / 2) * dt * k_1, v[i] + (1 / 2) * dt * l_1)\n",
    "        l_2 = f_2(u[i] + (1 / 2) * dt * k_1, v[i] + (1 / 2) * dt * l_1)\n",
    "\n",
    "        k_3 = f_1(u[i] + (1 / 2) * dt * k_2, v[i] + (1 / 2) * dt * l_2)\n",
    "        l_3 = f_2(u[i] + (1 / 2) * dt * k_2, v[i] + (1 / 2) * dt * l_2)\n",
    "\n",
    "        k_4 = f_1(u[i] + dt * k_3, v[i] + dt * l_3)\n",
    "        l_4 = f_2(u[i] + dt * k_3, v[i] + dt * l_3)\n",
    "        u[i + 1] = u[i] + (1 / 6) * dt * (k_1 + 2 * (k_2 + k_3) + k_4)\n",
    "        v[i + 1] = v[i] + (1 / 6) * dt * (l_1 + 2 * (l_2 + l_3) + l_4)\n",
    "\n",
    "    return (u, v)\n",
    "\n",
    "\n",
    "def culc_err(n):\n",
    "    u_runge, v_rung = solve_oed_runge_kutta(0, 10, f_1, f_2, n, 1, 0)\n",
    "    u = [2 * np.exp(-10 * t / n) - np.exp(2 * 10 * t / n) for t in range(n + 1)]\n",
    "    v = [np.exp(-10 * t / n) - np.exp(2 * 10 * t / n) for t in range(n + 1)]\n",
    "    return np.max(np.abs(np.concatenate([u - u_runge, v - v_rung]))) / np.max(\n",
    "        np.abs(np.concatenate([u, v]))\n",
    "    )\n",
    "\n",
    "\n",
    "x = [2**i for i in range(1, 11)]\n",
    "\n",
    "y = [culc_err(i) for i in x]\n",
    "\n",
    "plt.plot(x, y)\n",
    "plt.xticks([32, 64, 128, 256, 512, 1024])\n",
    "plt.grid()\n",
    "plt.xlabel(\"N\")\n",
    "plt.ylabel(\"E(dt)\")\n",
    "# plt.plot(x,y_2)\n",
    "plt.savefig(\"1SC22317Y03a02.pdf\")\n",
    "plt.show()"
   ]
  },
  {
   "cell_type": "code",
   "execution_count": null,
   "metadata": {},
   "outputs": [],
   "source": []
  }
 ],
 "metadata": {
  "kernelspec": {
   "display_name": "venv1",
   "language": "python",
   "name": "python3"
  },
  "language_info": {
   "codemirror_mode": {
    "name": "ipython",
    "version": 3
   },
   "file_extension": ".py",
   "mimetype": "text/x-python",
   "name": "python",
   "nbconvert_exporter": "python",
   "pygments_lexer": "ipython3",
   "version": "3.11.9"
  }
 },
 "nbformat": 4,
 "nbformat_minor": 2
}
