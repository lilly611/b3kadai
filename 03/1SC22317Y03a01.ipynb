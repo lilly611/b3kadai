{
 "cells": [
  {
   "cell_type": "code",
   "execution_count": 28,
   "metadata": {},
   "outputs": [
    {
     "name": "stdout",
     "output_type": "stream",
     "text": [
      "[ 1.00000000e+00 -6.25000000e+00 -4.87187500e+01 -3.42894531e+02\n",
      " -2.40096045e+03 -1.68069852e+04 -1.17648994e+05 -8.23542998e+05\n",
      " -5.76480100e+06 -4.03536070e+07 -2.82475249e+08]\n",
      "[ 0.00000000e+00 -6.62500000e+00 -4.88593750e+01 -3.42947266e+02\n",
      " -2.40098022e+03 -1.68069926e+04 -1.17648997e+05 -8.23542999e+05\n",
      " -5.76480100e+06 -4.03536070e+07 -2.82475249e+08]\n"
     ]
    }
   ],
   "source": [
    "import numpy as np\n",
    "import matplotlib.pyplot as plt\n",
    "\n",
    "\n",
    "def f_1(u, v):\n",
    "    return -4 * u + 6 * v\n",
    "\n",
    "\n",
    "def f_2(u, v):\n",
    "    return -3 * u + 5 * v\n",
    "\n",
    "\n",
    "def solve_oed_runge_kutta(a, b, f_1, f_2, n, u_a, v_a):\n",
    "    dt = (b - a) / n\n",
    "    t = [a + i * dt for i in range(n + 1)]\n",
    "    u = np.zeros(n + 1)\n",
    "    v = np.zeros(n + 1)\n",
    "\n",
    "    u[0] = u_a\n",
    "    v[0] = v_a\n",
    "\n",
    "    for i in range(n):\n",
    "        k_1 = f_1(u[i], v[i])\n",
    "        l_1=f_2(u[i],v[i])\n",
    "\n",
    "        k_2 = f_1(u[i] + (1 / 2) * dt * k_1,v[i] + (1 / 2) * dt * l_1)\n",
    "        l_2=f_2(u[i] + (1 / 2) * dt * k_1,v[i] + (1 / 2) * dt * l_1)\n",
    "\n",
    "        k_3 = f_1(u[i] + (1 / 2) * dt * k_2,v[i] + (1 / 2) * dt * l_2)\n",
    "        l_3=f_2(u[i] + (1 / 2) * dt * k_2,v[i] + (1 / 2) * dt * l_2)\n",
    "\n",
    "        k_4 = f_1(u[i] + dt * k_3, v[i] + dt * l_3)\n",
    "        l_4=f_2(u[i] + dt * k_3, v[i] + dt * l_3)\n",
    "        u[i + 1] = u[i] + (1 / 6) * dt * (k_1 + 2 * (k_2 + k_3) + k_4)\n",
    "        v[i + 1] = v[i] + (1 / 6) * dt * (l_1 + 2 * (l_2 + l_3) + l_4)\n",
    "\n",
    "\n",
    "    return (u, v)\n",
    "\n",
    "\n",
    "n = 10\n",
    "\n",
    "u, v = solve_oed_runge_kutta(0, 10, f_1, f_2, n, 1, 0)\n",
    "\n",
    "print(u)\n",
    "print(v)\n",
    "\n",
    "x = [i for i in range(n + 1)]\n",
    "y = [u[i] for i in x]\n",
    "z = [v[i] for i in x]\n",
    "#print(u[10])\n",
    "#plt.plot(x, y)\n",
    "#plt.ticklabel_format(style=\"plain\",axis=\"y\")\n",
    "#plt.plot(x, z)\n",
    "#plt.show()"
   ]
  },
  {
   "cell_type": "code",
   "execution_count": null,
   "metadata": {},
   "outputs": [],
   "source": []
  }
 ],
 "metadata": {
  "kernelspec": {
   "display_name": "venv1",
   "language": "python",
   "name": "python3"
  },
  "language_info": {
   "codemirror_mode": {
    "name": "ipython",
    "version": 3
   },
   "file_extension": ".py",
   "mimetype": "text/x-python",
   "name": "python",
   "nbconvert_exporter": "python",
   "pygments_lexer": "ipython3",
   "version": "3.11.5"
  }
 },
 "nbformat": 4,
 "nbformat_minor": 2
}
