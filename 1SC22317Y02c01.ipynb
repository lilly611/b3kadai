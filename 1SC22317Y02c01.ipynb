{
 "cells": [
  {
   "cell_type": "code",
   "execution_count": 22,
   "metadata": {},
   "outputs": [
    {
     "name": "stdout",
     "output_type": "stream",
     "text": [
      "Euler法の相対誤差は      0.18723286160661864\n",
      "Runge-kutta法の相対誤差は0.00040142766031261984\n"
     ]
    }
   ],
   "source": [
    "import numpy as np\n",
    "import matplotlib.pyplot as plt\n",
    "\n",
    "\n",
    "def f(t, u):\n",
    "    return 5 * (2 - u) * u\n",
    "\n",
    "\n",
    "a = 0\n",
    "b = 1  # closed interval\n",
    "u_a = 0.04\n",
    "n = 16  # division\n",
    "\n",
    "\n",
    "def solve_oed_euler(a, b, f, n, u_a):\n",
    "    dt = (b - a) / n\n",
    "    t = [a + i * dt for i in range(n + 1)]\n",
    "    u = np.zeros(n + 1)\n",
    "    u[0] = u_a\n",
    "\n",
    "    for i in range(n):\n",
    "        u[i + 1] = u[i] + dt * f(t[i], u[i])\n",
    "    return u\n",
    "\n",
    "\n",
    "def solve_oed_runge_kutta(a, b, f, n, u_a):\n",
    "    dt = (b - a) / n\n",
    "    t = [a + i * dt for i in range(n + 1)]\n",
    "    u = np.zeros(n + 1)\n",
    "    u[0] = u_a\n",
    "    for i in range(n):\n",
    "        k_1 = f(t[i], u[i])\n",
    "        k_2 = f(t[i] + dt / 2, u[i] + (1 / 2) * dt * k_1)\n",
    "        k_3 = f(t[i] + dt / 2, u[i] + (1 / 2) * dt * k_2)\n",
    "        k_4 = f(t[i + 1], u[i] + dt * k_3)\n",
    "        u[i + 1] = u[i] + (1 / 6) * dt * (k_1 + 2 * (k_2 + k_3) + k_4)\n",
    "    return u\n",
    "\n",
    "\n",
    "u_euler = solve_oed_euler(a, b, f, n, u_a)\n",
    "u_rung_kutta = solve_oed_runge_kutta(a, b, f, n, u_a)\n",
    "u = [2 / (1 + 49 * np.e ** (-10 * i / n)) for i in range(n + 1)]\n",
    "err_euler = max(np.abs(u - u_euler)) / max(np.abs(u))\n",
    "err_rung_kutta = max(np.abs(u - u_rung_kutta)) / max(np.abs(u))\n",
    "\n",
    "print(\"Euler法の相対誤差は      {}\".format(err_euler))\n",
    "print(\"Runge-kutta法の相対誤差は{}\".format(err_rung_kutta))"
   ]
  },
  {
   "cell_type": "code",
   "execution_count": 37,
   "metadata": {},
   "outputs": [
    {
     "data": {
      "text/plain": [
       "<function matplotlib.pyplot.show(close=None, block=None)>"
      ]
     },
     "execution_count": 37,
     "metadata": {},
     "output_type": "execute_result"
    },
    {
     "data": {
      "image/png": "[encoded data removed]",
      "text/plain": [
       "<Figure size 640x480 with 1 Axes>"
      ]
     },
     "metadata": {},
     "output_type": "display_data"
    }
   ],
   "source": [
    "x = [2**i for i in range(1, 8)]\n",
    "\n",
    "\n",
    "def u_n(j):\n",
    "    return [2 / (1 + 49 * np.e ** (-10 * i / n)) for i in range(j + 1)]\n",
    "\n",
    "\n",
    "def culc_err_euler(j):\n",
    "    return max(np.abs(u_n(j) - solve_oed_euler(a, b, f, j, u_a))) / max(np.abs(u_n(j)))\n",
    "\n",
    "\n",
    "def culc_err_range_kuuta(j):\n",
    "    return max(np.abs(u_n(j) - solve_oed_runge_kutta(a, b, f, j, u_a))) / max(\n",
    "        np.abs(u_n(j))\n",
    "    )\n",
    "\n",
    "\n",
    "y_1 = [culc_err_euler(i) for i in x]\n",
    "y_2 = [culc_err_range_kuuta(i) for i in x]\n",
    "\n",
    "plt.plot(x, y_1)\n",
    "plt.plot(x, y_2)\n",
    "plt.xticks(x)\n",
    "plt.grid()\n",
    "plt.xlabel(\"N\")\n",
    "plt.ylabel(\"E(dt)\")\n",
    "# plt.plot(x,y_2)\n",
    "plt.savefig(\"1SC22317Y02d01.pdf\")\n",
    "plt.show"
   ]
  }
 ],
 "metadata": {
  "kernelspec": {
   "display_name": "venv1",
   "language": "python",
   "name": "python3"
  },
  "language_info": {
   "codemirror_mode": {
    "name": "ipython",
    "version": 3
   },
   "file_extension": ".py",
   "mimetype": "text/x-python",
   "name": "python",
   "nbconvert_exporter": "python",
   "pygments_lexer": "ipython3",
   "version": "3.11.5"
  }
 },
 "nbformat": 4,
 "nbformat_minor": 2
}
