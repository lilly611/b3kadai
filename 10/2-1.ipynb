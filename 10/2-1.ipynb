{
 "cells": [
  {
   "cell_type": "code",
   "execution_count": 2,
   "metadata": {},
   "outputs": [],
   "source": [
    "import numpy\n",
    "from numba import njit"
   ]
  },
  {
   "cell_type": "code",
   "execution_count": 1,
   "metadata": {},
   "outputs": [],
   "source": [
    "def my_str_union(s,t):\n",
    "    length_string=max(len(s),len(t))\n",
    "\n",
    "    s_list=[\"\" for i in range(length_string)]\n",
    "    t_list=[\"\" for i in range(length_string)]\n",
    "    union_str=[\"\" for i in range(length_string)]\n",
    "\n",
    "    i=0 #カウンター変数\n",
    "    for alphabet in s:\n",
    "        s_list[i]=alphabet\n",
    "        i+=1\n",
    "\n",
    "    i=0 #カウンター変数\n",
    "    for alphabet in t:\n",
    "        t_list[i]=alphabet\n",
    "        i+=1\n",
    "\n",
    "\n",
    "    for j in range(length_string):\n",
    "        union_str[j]=s_list[j]+t_list[j]\n",
    "        i+=1\n",
    "\n",
    "    return ''.join(union_str)"
   ]
  },
  {
   "cell_type": "code",
   "execution_count": 2,
   "metadata": {},
   "outputs": [
    {
     "data": {
      "text/plain": [
       "'cbaotokstore'"
      ]
     },
     "execution_count": 2,
     "metadata": {},
     "output_type": "execute_result"
    }
   ],
   "source": [
    "my_str_union(\"cat\",\"bookstore\")"
   ]
  },
  {
   "cell_type": "code",
   "execution_count": 3,
   "metadata": {},
   "outputs": [
    {
     "data": {
      "text/plain": [
       "'bcoaotkstore'"
      ]
     },
     "execution_count": 3,
     "metadata": {},
     "output_type": "execute_result"
    }
   ],
   "source": [
    "my_str_union(\"bookstore\",\"cat\")"
   ]
  },
  {
   "cell_type": "code",
   "execution_count": null,
   "metadata": {},
   "outputs": [],
   "source": []
  }
 ],
 "metadata": {
  "kernelspec": {
   "display_name": "venv1",
   "language": "python",
   "name": "python3"
  },
  "language_info": {
   "codemirror_mode": {
    "name": "ipython",
    "version": 3
   },
   "file_extension": ".py",
   "mimetype": "text/x-python",
   "name": "python",
   "nbconvert_exporter": "python",
   "pygments_lexer": "ipython3",
   "version": "3.11.9"
  }
 },
 "nbformat": 4,
 "nbformat_minor": 2
}
