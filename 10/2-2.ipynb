{
 "cells": [
  {
   "cell_type": "code",
   "execution_count": 2,
   "metadata": {},
   "outputs": [],
   "source": [
    "def my_ab(s):\n",
    "    if len(s)%2 !=0:\n",
    "        print(\"no\")\n",
    "        return\n",
    "\n",
    "    s_list=[i for i in s]\n",
    "    j=0\n",
    "    for i in s_list[:int(len(s)/2)]:\n",
    "        if i==s_list[0]:\n",
    "            j+=0\n",
    "        else:\n",
    "            j+=1\n",
    "    if j != 0:\n",
    "        print(\"no\")\n",
    "        return\n",
    "\n",
    "    j=0\n",
    "    for i in s_list[int(len(s)/2):]:\n",
    "        if i==s_list[-1]:\n",
    "            j+=0\n",
    "        else:\n",
    "            j+=1\n",
    "    if j != 0:\n",
    "        print(\"no\")\n",
    "        return\n",
    "\n",
    "    print(\"yes\")\n",
    "    return\n"
   ]
  },
  {
   "cell_type": "code",
   "execution_count": 3,
   "metadata": {},
   "outputs": [
    {
     "name": "stdout",
     "output_type": "stream",
     "text": [
      "yes\n"
     ]
    }
   ],
   "source": [
    "my_ab(\"aabb\")"
   ]
  },
  {
   "cell_type": "code",
   "execution_count": 4,
   "metadata": {},
   "outputs": [
    {
     "name": "stdout",
     "output_type": "stream",
     "text": [
      "no\n"
     ]
    }
   ],
   "source": [
    "my_ab(\"assdd\")"
   ]
  },
  {
   "cell_type": "code",
   "execution_count": 5,
   "metadata": {},
   "outputs": [
    {
     "name": "stdout",
     "output_type": "stream",
     "text": [
      "no\n"
     ]
    }
   ],
   "source": [
    "my_ab(\"aaabbbas\")"
   ]
  },
  {
   "cell_type": "code",
   "execution_count": 6,
   "metadata": {},
   "outputs": [
    {
     "name": "stdout",
     "output_type": "stream",
     "text": [
      "yes\n"
     ]
    }
   ],
   "source": [
    "my_ab(\"aaaaaaaaaabbbbbbbbbb\")"
   ]
  },
  {
   "cell_type": "code",
   "execution_count": null,
   "metadata": {},
   "outputs": [],
   "source": []
  }
 ],
 "metadata": {
  "kernelspec": {
   "display_name": "venv1",
   "language": "python",
   "name": "python3"
  },
  "language_info": {
   "codemirror_mode": {
    "name": "ipython",
    "version": 3
   },
   "file_extension": ".py",
   "mimetype": "text/x-python",
   "name": "python",
   "nbconvert_exporter": "python",
   "pygments_lexer": "ipython3",
   "version": "3.11.9"
  }
 },
 "nbformat": 4,
 "nbformat_minor": 2
}
