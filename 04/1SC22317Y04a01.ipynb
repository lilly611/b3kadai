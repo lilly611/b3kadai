{
 "cells": [
  {
   "cell_type": "code",
   "execution_count": 5,
   "metadata": {},
   "outputs": [
    {
     "name": "stdout",
     "output_type": "stream",
     "text": [
      "[ 5.2         0.825      -3.940625   -6.89960938 -8.44868164 -9.19437866\n",
      " -9.53581314 -9.68702536 -9.75242029 -9.78020228 -9.79184261 -9.79666601\n",
      " -9.79864664 -9.79945382 -9.79978068 -9.79991232 -9.79996508 -9.79998614\n",
      " -9.79999452 -9.79999784 -9.79999915 -9.79999967 -9.79999987 -9.79999995\n",
      " -9.79999998 -9.79999999 -9.8        -9.8        -9.8        -9.8\n",
      " -9.8        -9.8        -9.8        -9.8        -9.8        -9.8\n",
      " -9.8        -9.8        -9.8        -9.8        -9.8        -9.8\n",
      " -9.8        -9.8        -9.8        -9.8        -9.8        -9.8\n",
      " -9.8        -9.8        -9.8        -9.8        -9.8        -9.8\n",
      " -9.8        -9.8        -9.8        -9.8        -9.8        -9.8\n",
      " -9.8        -9.8        -9.8        -9.8        -9.8        -9.8\n",
      " -9.8        -9.8        -9.8        -9.8        -9.8        -9.8\n",
      " -9.8        -9.8        -9.8        -9.8        -9.8        -9.8\n",
      " -9.8        -9.8        -9.8        -9.8        -9.8        -9.8\n",
      " -9.8        -9.8        -9.8        -9.8        -9.8        -9.8\n",
      " -9.8        -9.8        -9.8        -9.8        -9.8        -9.8\n",
      " -9.8        -9.8        -9.8        -9.8        -9.8       ]\n",
      "[ 0.00000000e+00 -5.00000000e+00 -3.75000000e+00 -2.10937500e+00\n",
      " -1.05468750e+00 -4.94384766e-01 -2.22473145e-01 -9.73320007e-02\n",
      " -4.17137146e-02 -1.75979733e-02 -7.33248889e-03 -3.02465167e-03\n",
      " -1.23735750e-03 -5.02676485e-04 -2.03003965e-04 -8.15640931e-05\n",
      " -3.26256372e-05 -1.29992773e-05 -5.16147777e-06 -2.04308495e-06\n",
      " -8.06480901e-07 -3.17551855e-07 -1.24752515e-07 -4.89086566e-08\n",
      " -1.91381701e-08 -7.47584749e-09 -2.91558066e-09 -1.13539459e-09\n",
      " -4.41542111e-10 -1.71491627e-10 -6.65264606e-11 -2.57791228e-11\n",
      " -9.97919138e-12 -3.85900812e-12 -1.49091314e-12 -5.75426805e-13\n",
      " -2.21710942e-13 -8.57460262e-14 -3.33189603e-14 -1.28826769e-14\n",
      " -4.59028512e-15 -2.12221399e-15 -4.11345189e-16 -1.37115063e-16\n",
      " -4.57050210e-17 -1.52350070e-17 -5.07833567e-18 -1.69277856e-18\n",
      " -5.64259519e-19 -1.88086506e-19 -6.26955021e-20 -2.08985007e-20\n",
      " -6.96616690e-21 -2.32205563e-21 -7.74018544e-22 -2.58006181e-22\n",
      " -8.60020605e-23 -2.86673535e-23 -9.55578450e-24 -3.18526150e-24\n",
      " -1.06175383e-24 -3.53917944e-25 -1.17972648e-25 -3.93242160e-26\n",
      " -1.31080720e-26 -4.36935734e-27 -1.45645245e-27 -4.85484149e-28\n",
      " -1.61828050e-28 -5.39426832e-29 -1.79808944e-29 -5.99363146e-30\n",
      " -1.99787715e-30 -6.65959052e-31 -2.21986351e-31 -7.39954502e-32\n",
      " -2.46651501e-32 -8.22171669e-33 -2.74057223e-33 -9.13524076e-34\n",
      " -3.04508025e-34 -1.01502675e-34 -3.38342250e-35 -1.12780750e-35\n",
      " -3.75935834e-36 -1.25311945e-36 -4.17706482e-37 -1.39235494e-37\n",
      " -4.64118313e-38 -1.54706104e-38 -5.15687015e-39 -1.71895672e-39\n",
      " -5.72985572e-40 -1.90995191e-40 -6.36650636e-41 -2.12216879e-41\n",
      " -7.07389595e-42 -2.35796532e-42 -7.85988439e-43 -2.61996146e-43\n",
      " -8.73320488e-44]\n"
     ]
    },
    {
     "data": {
      "image/png": "[encoded data removed]",
      "text/plain": [
       "<Figure size 640x480 with 1 Axes>"
      ]
     },
     "metadata": {},
     "output_type": "display_data"
    }
   ],
   "source": [
    "import numpy as np\n",
    "import matplotlib.pyplot as plt\n",
    "\n",
    "# uはx,vはuとして置き換えている（前回の課題で作成した関数を流用したため）\n",
    "n = 100\n",
    "a = 0\n",
    "t = 100\n",
    "m = 1\n",
    "k = 1\n",
    "c_v = 2\n",
    "g = 9.8\n",
    "x_0 = 15\n",
    "\n",
    "\n",
    "# dx/dt\n",
    "def f_1(x, u):\n",
    "    return u\n",
    "\n",
    "\n",
    "# du/dt\n",
    "def f_2(x, u):\n",
    "    return -g - k * x / m - c_v * u / m\n",
    "\n",
    "\n",
    "def solve_oed_runge_kutta(a, b, f_1, f_2, n, u_a, v_a):\n",
    "    dt = (b - a) / n\n",
    "    t = [a + i * dt for i in range(n + 1)]\n",
    "    u = np.zeros(n + 1)\n",
    "    v = np.zeros(n + 1)\n",
    "\n",
    "    u[0] = u_a\n",
    "    v[0] = v_a\n",
    "\n",
    "    for i in range(n):\n",
    "        k_1 = f_1(u[i], v[i])\n",
    "        l_1 = f_2(u[i], v[i])\n",
    "\n",
    "        k_2 = f_1(u[i] + (1 / 2) * dt * k_1, v[i] + (1 / 2) * dt * l_1)\n",
    "        l_2 = f_2(u[i] + (1 / 2) * dt * k_1, v[i] + (1 / 2) * dt * l_1)\n",
    "\n",
    "        k_3 = f_1(u[i] + (1 / 2) * dt * k_2, v[i] + (1 / 2) * dt * l_2)\n",
    "        l_3 = f_2(u[i] + (1 / 2) * dt * k_2, v[i] + (1 / 2) * dt * l_2)\n",
    "\n",
    "        k_4 = f_1(u[i] + dt * k_3, v[i] + dt * l_3)\n",
    "        l_4 = f_2(u[i] + dt * k_3, v[i] + dt * l_3)\n",
    "        u[i + 1] = u[i] + (1 / 6) * dt * (k_1 + 2 * (k_2 + k_3) + k_4)\n",
    "        v[i + 1] = v[i] + (1 / 6) * dt * (l_1 + 2 * (l_2 + l_3) + l_4)\n",
    "\n",
    "    return (u, v)\n",
    "\n",
    "\n",
    "x, u = solve_oed_runge_kutta(a, t, f_1, f_2, n, x_0 - m * g / k, 0)\n",
    "\n",
    "print(x)\n",
    "print(u)\n",
    "\n",
    "t = [i for i in range(n + 1)]\n",
    "x_kansu = [x[i] for i in t]\n",
    "u_kansu = [u[i] for i in t]\n",
    "\n",
    "plt.plot(t, x_kansu)\n",
    "plt.plot(t, u_kansu)\n",
    "plt.show()"
   ]
  },
  {
   "cell_type": "code",
   "execution_count": 4,
   "metadata": {},
   "outputs": [
    {
     "data": {
      "text/plain": [
       "5.199999999999999"
      ]
     },
     "execution_count": 4,
     "metadata": {},
     "output_type": "execute_result"
    }
   ],
   "source": []
  },
  {
   "cell_type": "code",
   "execution_count": null,
   "metadata": {},
   "outputs": [],
   "source": []
  }
 ],
 "metadata": {
  "kernelspec": {
   "display_name": "venv1",
   "language": "python",
   "name": "python3"
  },
  "language_info": {
   "codemirror_mode": {
    "name": "ipython",
    "version": 3
   },
   "file_extension": ".py",
   "mimetype": "text/x-python",
   "name": "python",
   "nbconvert_exporter": "python",
   "pygments_lexer": "ipython3",
   "version": "3.11.9"
  }
 },
 "nbformat": 4,
 "nbformat_minor": 2
}
