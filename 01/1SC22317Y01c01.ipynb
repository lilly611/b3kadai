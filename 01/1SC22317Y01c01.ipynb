{
 "cells": [
  {
   "cell_type": "code",
   "execution_count": 1,
   "metadata": {},
   "outputs": [
    {
     "data": {
      "text/plain": [
       "[1.0, 2.0, -1.0]"
      ]
     },
     "execution_count": 1,
     "metadata": {},
     "output_type": "execute_result"
    }
   ],
   "source": [
    "import numpy as np\n",
    "\n",
    "a= np.array([[2, -4, 4], [1, -2, 3], [3, 2, -4]], dtype=float)\n",
    "b = np.array([-10, -6, 11], dtype=float)\n",
    "\n",
    "for k in range(3):\n",
    "\n",
    "\n",
    "    a_max = np.abs(a[k, k])\n",
    "    i_max = k\n",
    "\n",
    "\n",
    "    for i in range(k, 3):\n",
    "\n",
    "\n",
    "        if np.abs(a[i, k]) > a_max:\n",
    "\n",
    "\n",
    "            a_max = np.abs(a[i, k])\n",
    "            i_max = i\n",
    "\n",
    "\n",
    "    if a_max < 1e-10:\n",
    "\n",
    "\n",
    "        print(\"A is singular\")\n",
    "\n",
    "\n",
    "    if i_max != k:\n",
    "\n",
    "\n",
    "        for j in range(3):\n",
    "\n",
    "\n",
    "            a[k, j], a[i_max, j] = a[i_max, j],a[k, j]\n",
    "        b[k], b[i_max] = b[i_max], b[k]\n",
    "\n",
    "\n",
    "    for l in range(k + 1, 3):\n",
    "\n",
    "        lk=-a[l,k]\n",
    "        kk=a[k,k]\n",
    "        #a[l] +=a[k] * (-a[l, k] / a[k, k])\n",
    "        a[l] +=a[k]*(lk/kk)\n",
    "\n",
    "        #b[l] += b[k] * (-a[l, k] / a[k, k])\n",
    "        b[l] += b[k]*(lk/kk)\n",
    "\n",
    "\n",
    "x = [0, 0, 0]\n",
    "\n",
    "\n",
    "for m in reversed(range(3)):\n",
    "\n",
    "\n",
    "    x[m] = b[m] / a[m, m]\n",
    "\n",
    "\n",
    "    for n in range(m):\n",
    "\n",
    "\n",
    "        b[n] -= a[n, m] * x[m]\n",
    "\n",
    "x"
   ]
  },
  {
   "cell_type": "code",
   "execution_count": null,
   "metadata": {},
   "outputs": [],
   "source": []
  }
 ],
 "metadata": {
  "kernelspec": {
   "display_name": "venv1",
   "language": "python",
   "name": "python3"
  },
  "language_info": {
   "codemirror_mode": {
    "name": "ipython",
    "version": 3
   },
   "file_extension": ".py",
   "mimetype": "text/x-python",
   "name": "python",
   "nbconvert_exporter": "python",
   "pygments_lexer": "ipython3",
   "version": "3.11.5"
  }
 },
 "nbformat": 4,
 "nbformat_minor": 2
}
