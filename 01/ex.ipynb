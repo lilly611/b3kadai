{
 "cells": [
  {
   "cell_type": "code",
   "execution_count": null,
   "id": "c8f6ce74",
   "metadata": {},
   "outputs": [],
   "source": [
    "s = 0\n",
    "n = 10\n",
    "for i in range(n):\n",
    "    s += i + 1\n",
    "\n",
    "s"
   ]
  },
  {
   "cell_type": "code",
   "execution_count": null,
   "id": "e6f24683",
   "metadata": {},
   "outputs": [],
   "source": [
    "s_1 = 0.0\n",
    "n = 10\n",
    "for i in range(n):\n",
    "    s_1 += 1.0 / (i + 1) ** 2\n",
    "\n",
    "s_1"
   ]
  },
  {
   "cell_type": "code",
   "execution_count": null,
   "id": "ba32c655",
   "metadata": {},
   "outputs": [],
   "source": [
    "import numpy as np"
   ]
  },
  {
   "cell_type": "code",
   "execution_count": null,
   "id": "74ed268c",
   "metadata": {},
   "outputs": [],
   "source": [
    "np.pi"
   ]
  },
  {
   "cell_type": "code",
   "execution_count": null,
   "id": "4ac7d70c",
   "metadata": {},
   "outputs": [],
   "source": [
    "e_n = np.abs(s_1 - (np.pi**2) / 6)\n",
    "e_n"
   ]
  },
  {
   "cell_type": "code",
   "execution_count": null,
   "id": "5d6f5180",
   "metadata": {},
   "outputs": [],
   "source": [
    "def calc_partial_sum(n):\n",
    "    s = 0\n",
    "    for i in range(n):\n",
    "        s += 1 / (i + 1) ** 2\n",
    "    return s\n",
    "\n",
    "\n",
    "def err(n):\n",
    "    e_n = np.abs(calc_partial_sum(n) - (np.pi**2) / 6)\n",
    "    return e_n"
   ]
  },
  {
   "cell_type": "code",
   "execution_count": null,
   "id": "38354d24",
   "metadata": {},
   "outputs": [],
   "source": [
    "err(100)"
   ]
  },
  {
   "cell_type": "code",
   "execution_count": null,
   "id": "fcaf7a0f",
   "metadata": {},
   "outputs": [],
   "source": [
    "err(1000)"
   ]
  },
  {
   "cell_type": "code",
   "execution_count": null,
   "id": "7e3c0c18",
   "metadata": {},
   "outputs": [],
   "source": [
    "err(10000000)"
   ]
  },
  {
   "cell_type": "code",
   "execution_count": null,
   "id": "598780ce",
   "metadata": {},
   "outputs": [],
   "source": [
    "s = range(5)\n",
    "print(range(5))"
   ]
  },
  {
   "cell_type": "code",
   "execution_count": null,
   "id": "e3991bf5",
   "metadata": {},
   "outputs": [],
   "source": [
    "import numpy as np\n",
    "\n",
    "s: float128 = 50\n",
    "print(s)"
   ]
  },
  {
   "cell_type": "code",
   "execution_count": 1,
   "id": "248ac9fe",
   "metadata": {},
   "outputs": [],
   "source": [
    "import numpy as np"
   ]
  },
  {
   "cell_type": "code",
   "execution_count": 9,
   "id": "70311a84",
   "metadata": {},
   "outputs": [
    {
     "name": "stdout",
     "output_type": "stream",
     "text": [
      "[[ 2. -4.  4.]\n",
      " [ 1. -2.  3.]\n",
      " [ 3.  2. -4.]]\n",
      "[ 2. -4.  4.]\n",
      "[-10.  -6.  11.]\n",
      "-6.0\n"
     ]
    }
   ],
   "source": [
    "A = np.array([[2, -4, 4], [1, -2, 3], [3, 2, -4]], dtype=float)\n",
    "b = np.array([-10, -6, 11], dtype=float)\n",
    "\n",
    "\n",
    "print(A)\n",
    "print(A[0])\n",
    "print(b)\n",
    "print(b[1])"
   ]
  },
  {
   "cell_type": "code",
   "execution_count": 21,
   "id": "65cf7b2b",
   "metadata": {},
   "outputs": [
    {
     "data": {
      "text/plain": [
       "[1.0, 2.0, -1.0]"
      ]
     },
     "execution_count": 21,
     "metadata": {},
     "output_type": "execute_result"
    }
   ],
   "source": [
    "import numpy as np\n",
    "\n",
    "a= np.array([[2, -4, 4], [1, -2, 3], [3, 2, -4]], dtype=float)\n",
    "b = np.array([-10, -6, 11], dtype=float)\n",
    "\n",
    "for k in range(3):\n",
    "\n",
    "\n",
    "    a_max = np.abs(a[k, k])\n",
    "    i_max = k\n",
    "\n",
    "\n",
    "    for i in range(k, 3):\n",
    "\n",
    "\n",
    "        if np.abs(a[i, k]) > a_max:\n",
    "\n",
    "\n",
    "            a_max = np.abs(a[i, k])\n",
    "            i_max = i\n",
    "\n",
    "\n",
    "    if a_max < 1e-10:\n",
    "\n",
    "\n",
    "        print(\"A is singular\")\n",
    "\n",
    "\n",
    "    if i_max != k:\n",
    "\n",
    "\n",
    "        for j in range(3):\n",
    "\n",
    "\n",
    "            a[k, j], a[i_max, j] = a[i_max, j],a[k, j]\n",
    "        b[k], b[i_max] = b[i_max], b[k]\n",
    "\n",
    "\n",
    "    for l in range(k + 1, 3):\n",
    "\n",
    "        lk=-a[l,k]\n",
    "        kk=a[k,k]\n",
    "        #a[l] +=a[k] * (-a[l, k] / a[k, k])\n",
    "        a[l] +=a[k]*(lk/kk)\n",
    "\n",
    "        #b[l] += b[k] * (-a[l, k] / a[k, k])\n",
    "        b[l] += b[k]*(lk/kk)\n",
    "\n",
    "\n",
    "x = [0, 0, 0]\n",
    "\n",
    "\n",
    "for m in reversed(range(3)):\n",
    "\n",
    "\n",
    "    x[m] = b[m] / a[m, m]\n",
    "\n",
    "\n",
    "    for n in range(m):\n",
    "\n",
    "\n",
    "        b[n] -= a[n, m] * x[m]\n",
    "\n",
    "x"
   ]
  },
  {
   "cell_type": "code",
   "execution_count": null,
   "id": "d155c9c2",
   "metadata": {},
   "outputs": [],
   "source": [
    "import numpy as np\n",
    "\n",
    "def solve_lse(a,b):\n",
    "    size=a.shape[0]\n"
   ]
  }
 ],
 "metadata": {
  "kernelspec": {
   "display_name": "Python 3 (ipykernel)",
   "language": "python",
   "name": "python3"
  },
  "language_info": {
   "codemirror_mode": {
    "name": "ipython",
    "version": 3
   },
   "file_extension": ".py",
   "mimetype": "text/x-python",
   "name": "python",
   "nbconvert_exporter": "python",
   "pygments_lexer": "ipython3",
   "version": "3.11.5"
  }
 },
 "nbformat": 4,
 "nbformat_minor": 5
}
